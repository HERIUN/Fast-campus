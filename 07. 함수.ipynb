{
 "cells": [
  {
   "cell_type": "markdown",
   "metadata": {},
   "source": [
    "* **함수의 정의**\n",
    " - def 함수이름(입력):"
   ]
  },
  {
   "cell_type": "code",
   "execution_count": 4,
   "metadata": {
    "collapsed": false,
    "scrolled": true
   },
   "outputs": [
    {
     "data": {
      "text/plain": [
       "3"
      ]
     },
     "execution_count": 4,
     "metadata": {},
     "output_type": "execute_result"
    }
   ],
   "source": [
    "def add(x,y):\n",
    "    n = x+y\n",
    "    return n\n",
    "\n",
    "add(1,2)"
   ]
  },
  {
   "cell_type": "markdown",
   "metadata": {},
   "source": [
    "* **기본 파라미터 설정**\n",
    " - 기본 파라미터 뒤에 일반 파라미터가 위치할 수 없음\n",
    " - e.x) 올바르지 않은 예\n",
    "   - def test(a=1,b,c)"
   ]
  },
  {
   "cell_type": "code",
   "execution_count": 6,
   "metadata": {
    "collapsed": false,
    "scrolled": true
   },
   "outputs": [
    {
     "name": "stdout",
     "output_type": "stream",
     "text": [
      "6\n",
      "3\n"
     ]
    }
   ],
   "source": [
    "def add(x,y=5):\n",
    "    n = x+y\n",
    "    return n\n",
    "\n",
    "print(add(1))\n",
    "print(add(1,2))"
   ]
  },
  {
   "cell_type": "markdown",
   "metadata": {},
   "source": [
    "* **키워드 파라미터 설정**\n",
    " - 파라미터의 이름을 명시하여 전달가능, 순서 조정 가능"
   ]
  },
  {
   "cell_type": "code",
   "execution_count": 7,
   "metadata": {
    "collapsed": false
   },
   "outputs": [
    {
     "data": {
      "text/plain": [
       "4"
      ]
     },
     "execution_count": 7,
     "metadata": {},
     "output_type": "execute_result"
    }
   ],
   "source": [
    "def test(x,y,z):\n",
    "    a = x-y+z\n",
    "    return a\n",
    "test(y=1,x=2,z=3)"
   ]
  },
  {
   "cell_type": "markdown",
   "metadata": {},
   "source": [
    "* **return**\n",
    " - 기본적으로 None 반환 없어도 None 반환\n",
    " - tuple 반환을 하여 복수개의 값 리턴 가능"
   ]
  },
  {
   "cell_type": "code",
   "execution_count": 11,
   "metadata": {
    "collapsed": false
   },
   "outputs": [
    {
     "name": "stdout",
     "output_type": "stream",
     "text": [
      "<class 'tuple'>\n",
      "23 60\n"
     ]
    }
   ],
   "source": [
    "def add_mul(x,y):\n",
    "    s = x+y\n",
    "    m = x*y\n",
    "    return s,m\n",
    "\n",
    "a,b = add_mul(20,3)\n",
    "print(type(add_mul(20,30)))\n",
    "print(a,b)"
   ]
  },
  {
   "cell_type": "markdown",
   "metadata": {},
   "source": [
    "* **지역변수**\n",
    " - 함수내의 변수는 블록이 종료되면 소멸됨\n"
   ]
  },
  {
   "cell_type": "code",
   "execution_count": 12,
   "metadata": {
    "collapsed": false
   },
   "outputs": [
    {
     "name": "stdout",
     "output_type": "stream",
     "text": [
      "30 40\n",
      "10 30\n"
     ]
    }
   ],
   "source": [
    "num1=10\n",
    "num2=30\n",
    "\n",
    "def test(num1,num2):\n",
    "    print(num1,num2)\n",
    "    return num1+num2\n",
    "test(30,40)\n",
    "print(num1,num2)\n"
   ]
  },
  {
   "cell_type": "markdown",
   "metadata": {},
   "source": [
    "* **가변길이 인자**\n",
    " - ex) print\n",
    " - 전달되는 파라미터의 개수가 고정적이지 않은 경우\n",
    " - *args : arguments의 줄임말, 튜플로 인식\n",
    " - **kwargs : dict로 인식\n",
    " - 문자열.format()"
   ]
  },
  {
   "cell_type": "code",
   "execution_count": 16,
   "metadata": {
    "collapsed": false
   },
   "outputs": [
    {
     "name": "stdout",
     "output_type": "stream",
     "text": [
      "<class 'tuple'>\n",
      "(10, 20, 30)\n"
     ]
    }
   ],
   "source": [
    "def test(*x):\n",
    "    print(type(x))\n",
    "    print(x)\n",
    "    \n",
    "test(10,20,30)"
   ]
  },
  {
   "cell_type": "code",
   "execution_count": 15,
   "metadata": {
    "collapsed": false
   },
   "outputs": [
    {
     "name": "stdout",
     "output_type": "stream",
     "text": [
      "<class 'dict'>\n",
      "key: a value 1\n",
      "key: c value hi\n",
      "key: b value 2\n"
     ]
    }
   ],
   "source": [
    "def test2(**x):\n",
    "    print(type(x))\n",
    "    for key, value in x.items():\n",
    "        print('key:', key, 'value', value)\n",
    "test2(a=1, b='2', c='hi')"
   ]
  },
  {
   "cell_type": "code",
   "execution_count": 22,
   "metadata": {
    "collapsed": false
   },
   "outputs": [
    {
     "name": "stdout",
     "output_type": "stream",
     "text": [
      "온도 :20도, 강수확률: 50%\n",
      "온도 :20도, 강수확률: 50%\n"
     ]
    }
   ],
   "source": [
    "a = '온도 :{temp}도, 강수확률: {prob}%'.format(temp=20,prob=50)\n",
    "b = '온도 :{}도, 강수확률: {}%'.format(20,50)\n",
    "print(a)\n",
    "print(b)"
   ]
  },
  {
   "cell_type": "code",
   "execution_count": null,
   "metadata": {
    "collapsed": true
   },
   "outputs": [],
   "source": []
  }
 ],
 "metadata": {
  "kernelspec": {
   "display_name": "Python [default]",
   "language": "python",
   "name": "python3"
  },
  "language_info": {
   "codemirror_mode": {
    "name": "ipython",
    "version": 3
   },
   "file_extension": ".py",
   "mimetype": "text/x-python",
   "name": "python",
   "nbconvert_exporter": "python",
   "pygments_lexer": "ipython3",
   "version": "3.5.6"
  }
 },
 "nbformat": 4,
 "nbformat_minor": 1
}
