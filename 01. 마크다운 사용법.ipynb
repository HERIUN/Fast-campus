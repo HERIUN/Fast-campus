{
 "cells": [
  {
   "cell_type": "markdown",
   "metadata": {},
   "source": [
    "# 샵이 많을수록 작아짐\n",
    "\n",
    "셀(파랑색,명령모드) : esc\n",
    "입력보드 : Enter\n",
    "\n",
    "\n",
    "h : 도움말\n",
    "\n",
    "shift + ctrl + - : 셀 나누기\n",
    "shift + m : 셀 합치기\n",
    "shift + 드래그 : 여러 셀 클릭\n",
    "\n",
    "*y : 해당셀을 코드 셀로*\n",
    "\n",
    "**m : 해당셀을 마크다운 셀로**\n",
    "\n",
    "- python\n",
    " - pandas\n",
    " - numpy\n",
    "- java\n",
    "\n",
    "\n",
    "1. python\n",
    "\n",
    "> 파이썬은 재밌다\n",
    "\n",
    "$y=3x$\n",
    "\n",
    "```python\n",
    "a=10\n",
    "print(a)\n",
    "```\n",
    "\n",
    "[파이썬 공식 페이지](https://www.python.org/)\n",
    "\n",
    "* **이런거**\n",
    "\n"
   ]
  },
  {
   "cell_type": "code",
   "execution_count": null,
   "metadata": {
    "collapsed": true
   },
   "outputs": [],
   "source": []
  }
 ],
 "metadata": {
  "anaconda-cloud": {},
  "kernelspec": {
   "display_name": "Python [default]",
   "language": "python",
   "name": "python3"
  },
  "language_info": {
   "codemirror_mode": {
    "name": "ipython",
    "version": 3
   },
   "file_extension": ".py",
   "mimetype": "text/x-python",
   "name": "python",
   "nbconvert_exporter": "python",
   "pygments_lexer": "ipython3",
   "version": "3.5.6"
  }
 },
 "nbformat": 4,
 "nbformat_minor": 1
}
