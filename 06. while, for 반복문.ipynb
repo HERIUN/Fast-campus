{
 "cells": [
  {
   "cell_type": "markdown",
   "metadata": {},
   "source": [
    " * **while, for 차이, 주의점**\n",
    "  - 특정 조건을 만족하는 경우 수행 가능(while)\n",
    "  - 리스트, 문자열, 튜플 등 컬렉션 타입의 아이템을 하나씩 순회하면서 사용 가능(for)\n",
    "  - 주의점: while 사용시, 반복을 멈추게 할 장치 필요\n",
    "   - 그렇지 않으면 셀이 무한히 실행되어, jupyter notebook의 재부팅 필요\n",
    "  - continue, break"
   ]
  },
  {
   "cell_type": "code",
   "execution_count": 4,
   "metadata": {
    "collapsed": false
   },
   "outputs": [
    {
     "name": "stdout",
     "output_type": "stream",
     "text": [
      "value: 1  index: 0\n",
      "value: 2  index: 1\n",
      "value: 3  index: 2\n",
      "value: 4  index: 3\n",
      "value: 5  index: 4\n",
      "value: 6  index: 5\n",
      "value: 7  index: 6\n",
      "value: 8  index: 7\n",
      "value: 99  index: 8\n"
     ]
    }
   ],
   "source": [
    "a = [1,2,3,4,5,6,7,8,99]\n",
    "\n",
    "i=0\n",
    "while i<len(a): #len(a)=9\n",
    "    print('value:',a[i],' index:',i)\n",
    "    i += 1"
   ]
  },
  {
   "cell_type": "code",
   "execution_count": 5,
   "metadata": {
    "collapsed": false
   },
   "outputs": [
    {
     "name": "stdout",
     "output_type": "stream",
     "text": [
      "1 2\n",
      "2 4\n",
      "3 6\n",
      "4 8\n",
      "5 10\n",
      "6 12\n",
      "7 14\n",
      "8 16\n",
      "99 198\n"
     ]
    }
   ],
   "source": [
    "for i in a:\n",
    "    print(i,i*2)"
   ]
  },
  {
   "cell_type": "markdown",
   "metadata": {},
   "source": [
    "* **dict의 아이템 출력하기**\n",
    " - dict의 경우 기본적으로 key값을 참조\n",
    " - keys(),values(),items()로 각 key,value, tuple(key,value)로 순회 가능"
   ]
  },
  {
   "cell_type": "code",
   "execution_count": 6,
   "metadata": {
    "collapsed": false
   },
   "outputs": [
    {
     "name": "stdout",
     "output_type": "stream",
     "text": [
      "Japan Tokyo\n",
      "Canada Ottawa\n",
      "Korea Seoul\n"
     ]
    }
   ],
   "source": [
    "a = {'Korea':'Seoul', 'Japan':'Tokyo', 'Canada':'Ottawa'}\n",
    "for key in a:\n",
    "    print(key, a[key])"
   ]
  },
  {
   "cell_type": "code",
   "execution_count": 8,
   "metadata": {
    "collapsed": false
   },
   "outputs": [
    {
     "name": "stdout",
     "output_type": "stream",
     "text": [
      "Tokyo\n",
      "Ottawa\n",
      "Seoul\n"
     ]
    }
   ],
   "source": [
    "for value in a.values():\n",
    "    print(value)"
   ]
  },
  {
   "cell_type": "code",
   "execution_count": 10,
   "metadata": {
    "collapsed": false
   },
   "outputs": [
    {
     "name": "stdout",
     "output_type": "stream",
     "text": [
      "[('Japan', 'Tokyo'), ('Canada', 'Ottawa'), ('Korea', 'Seoul')]\n",
      "Japan Tokyo\n",
      "Canada Ottawa\n",
      "Korea Seoul\n"
     ]
    }
   ],
   "source": [
    "print(list(a.items()))\n",
    "for key,value in a.items():\n",
    "    print(key,value)"
   ]
  },
  {
   "cell_type": "markdown",
   "metadata": {},
   "source": [
    "* **for에서 index사용하기**\n",
    " - enumerate 함수 이용"
   ]
  },
  {
   "cell_type": "code",
   "execution_count": 13,
   "metadata": {
    "collapsed": false,
    "scrolled": true
   },
   "outputs": [
    {
     "name": "stdout",
     "output_type": "stream",
     "text": [
      "(0, 1)\n",
      "(1, 2)\n",
      "(2, 3)\n",
      "(3, 4)\n",
      "(4, 5)\n",
      "0 1\n",
      "1 2\n",
      "2 3\n",
      "3 4\n",
      "4 5\n"
     ]
    }
   ],
   "source": [
    "a =[1,2,3,4,5]\n",
    "for num in enumerate(a):\n",
    "    print(num)\n",
    "\n",
    "for index,num in enumerate(a):\n",
    "    print(index,num)"
   ]
  },
  {
   "cell_type": "markdown",
   "metadata": {},
   "source": [
    "* **range 함수**"
   ]
  },
  {
   "cell_type": "code",
   "execution_count": 17,
   "metadata": {
    "collapsed": false
   },
   "outputs": [
    {
     "name": "stdout",
     "output_type": "stream",
     "text": [
      "[0, 1, 2, 3, 4, 5, 6, 7, 8, 9]\n",
      "[1, 2, 3, 4, 5, 6, 7, 8, 9]\n",
      "[1, 3, 5, 7, 9]\n"
     ]
    }
   ],
   "source": [
    "print(list(range(10)))\n",
    "print(list(range(1,10)))\n",
    "print(list(range(1,10,2)))\n"
   ]
  },
  {
   "cell_type": "code",
   "execution_count": null,
   "metadata": {
    "collapsed": true
   },
   "outputs": [],
   "source": []
  },
  {
   "cell_type": "code",
   "execution_count": null,
   "metadata": {
    "collapsed": true
   },
   "outputs": [],
   "source": []
  }
 ],
 "metadata": {
  "kernelspec": {
   "display_name": "Python [default]",
   "language": "python",
   "name": "python3"
  },
  "language_info": {
   "codemirror_mode": {
    "name": "ipython",
    "version": 3
   },
   "file_extension": ".py",
   "mimetype": "text/x-python",
   "name": "python",
   "nbconvert_exporter": "python",
   "pygments_lexer": "ipython3",
   "version": "3.5.6"
  }
 },
 "nbformat": 4,
 "nbformat_minor": 1
}
