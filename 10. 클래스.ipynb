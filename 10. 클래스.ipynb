{
 "cells": [
  {
   "cell_type": "markdown",
   "metadata": {},
   "source": [
    "* **class**\n",
    " - 속성(attribute)와 동작(method)를 갖는 데이터 타입\n",
    " - string, int, list, dict... 모두가 다 클래스"
   ]
  },
  {
   "cell_type": "code",
   "execution_count": 2,
   "metadata": {
    "collapsed": true
   },
   "outputs": [],
   "source": [
    "class Person:\n",
    "    pass   # 문법적 빈 오류를 넘어가게 하는 명령\n",
    "\n",
    "def test():\n",
    "    pass"
   ]
  },
  {
   "cell_type": "code",
   "execution_count": 3,
   "metadata": {
    "collapsed": false
   },
   "outputs": [
    {
     "ename": "SyntaxError",
     "evalue": "unexpected EOF while parsing (<ipython-input-3-dddd424117b7>, line 1)",
     "output_type": "error",
     "traceback": [
      "\u001b[0;36m  File \u001b[0;32m\"<ipython-input-3-dddd424117b7>\"\u001b[0;36m, line \u001b[0;32m1\u001b[0m\n\u001b[0;31m    def test2():\u001b[0m\n\u001b[0m                ^\u001b[0m\n\u001b[0;31mSyntaxError\u001b[0m\u001b[0;31m:\u001b[0m unexpected EOF while parsing\n"
     ]
    }
   ],
   "source": [
    "def test2():"
   ]
  },
  {
   "cell_type": "code",
   "execution_count": 4,
   "metadata": {
    "collapsed": false
   },
   "outputs": [
    {
     "name": "stdout",
     "output_type": "stream",
     "text": [
      "<class '__main__.Person'> <class '__main__.Person'>\n",
      "<class 'list'> <class 'list'>\n"
     ]
    }
   ],
   "source": [
    "bob = Person()\n",
    "cathy = Person()\n",
    "\n",
    "a = list()\n",
    "b = list()\n",
    "\n",
    "print(type(bob), type(cathy))\n",
    "print(type(a), type(b))\n"
   ]
  },
  {
   "cell_type": "markdown",
   "metadata": {},
   "source": [
    "* **object**\n",
    " - class로 생성되어 구체화된 객체(인스턴스)\n",
    " - 실제로 class가 인스턴스화 되어 메모리에 상주하는 상태를 의미\n",
    " - 붕어빵과 붕어빵 틀"
   ]
  },
  {
   "cell_type": "markdown",
   "metadata": {},
   "source": [
    "### __init__(self)\n",
    " - 생성자, 클래스 인스턴스가 생성될 때 호출됨\n",
    " - self인자는 항상 첫번째에 오며 자기 자신을 가리킴\n",
    " - 이름이 꼭 self일 필요는 없지만, 관례적으로 self사용\n",
    " - 생성자에서 해당 클래스가 다루는 데이터를 정의\n",
    "    - 이 데이터를 멤버 변수(member variable)또는 속성(attribute)라고 함"
   ]
  },
  {
   "cell_type": "code",
   "execution_count": 6,
   "metadata": {
    "collapsed": false
   },
   "outputs": [
    {
     "name": "stdout",
     "output_type": "stream",
     "text": [
      "<__main__.Person object at 0x0000025FF77300F0> is generated\n",
      "aron 20\n"
     ]
    }
   ],
   "source": [
    "class Person:\n",
    "    def __init__(self):   ##__init__ 꼭 이렇게 이름 매겨야 함\n",
    "        print(self, 'is generated')\n",
    "        self.name = 'Kate'\n",
    "        self.age = 10\n",
    "        \n",
    "p1 = Person()\n",
    "\n",
    "p1.name = 'aron'\n",
    "p1.age = 20\n",
    "\n",
    "print(p1.name, p1.age)"
   ]
  },
  {
   "cell_type": "code",
   "execution_count": 10,
   "metadata": {
    "collapsed": false,
    "scrolled": false
   },
   "outputs": [
    {
     "name": "stdout",
     "output_type": "stream",
     "text": [
      "<__main__.Person object at 0x0000025FF7740E80> is generated\n",
      "bob 30 1111\n"
     ]
    }
   ],
   "source": [
    "class Person:\n",
    "    def __init__(self, n, a, b=1111): #파라미터의 이름은 별 상관 없다\n",
    "        print(self, 'is generated')\n",
    "        self.name = n\n",
    "        self.age = a\n",
    "        self.birth = b\n",
    "        \n",
    "p1 = Person('bob', 30)\n",
    "print(p1.name, p1.age, p1.birth)"
   ]
  },
  {
   "cell_type": "markdown",
   "metadata": {},
   "source": [
    "* **self**\n",
    " - 파이썬의 method는 항상 첫번째 인자로 self를 전달\n",
    " - self는 현재 해당 메소드가 호출되는 객체 자신을 가리킴\n",
    " - C++/C#, JAVA의 this에 해당"
   ]
  },
  {
   "cell_type": "code",
   "execution_count": 19,
   "metadata": {
    "collapsed": false,
    "scrolled": true
   },
   "outputs": [
    {
     "name": "stdout",
     "output_type": "stream",
     "text": [
      "self: <__main__.Person object at 0x0000025FF784C320>\n",
      "self: <__main__.Person object at 0x0000025FF784C358>\n",
      "<__main__.Person object at 0x0000025FF784C320>\n",
      "<__main__.Person object at 0x0000025FF784C358>\n",
      "Aron 은 잠을 잡니다\n",
      "bob 은 잠을 잡니다\n"
     ]
    }
   ],
   "source": [
    "class Person:\n",
    "    def __init__(self,name,age):\n",
    "        print('self:', self)\n",
    "        self.name = name\n",
    "        self.age = age\n",
    "    \n",
    "    def sleep(self): #메소드\n",
    "        print(self.name, '은 잠을 잡니다')\n",
    "        \n",
    "a = Person('Aron', 20)\n",
    "b = Person('bob', 30)\n",
    "\n",
    "print(a)\n",
    "print(b)\n",
    "\n",
    "a.sleep()\n",
    "b.sleep()\n",
    "        "
   ]
  },
  {
   "cell_type": "markdown",
   "metadata": {},
   "source": [
    "* **method**\n",
    " - 멤버함수라고도 하며, 해당 클래스의 object에서만 호출가능\n",
    " - 객체레벌에서 호출되며, 해당 객체의 속성에 대한 연산을 행함\n",
    " - {obj}.{method}(self,...) 형태로 호출"
   ]
  },
  {
   "cell_type": "markdown",
   "metadata": {},
   "source": [
    "* **method type**\n",
    " - instance method - 객체로 호출\n",
    "  - 객체 레벨로 호출되어, 해당 메소드를 호출한 객체에만 영향을 미침\n",
    " - class method(static method) - class로 호출\n",
    "  - 클래스 레벨로 호출되어, 클래스 멤버 변수만 변경가능"
   ]
  },
  {
   "cell_type": "code",
   "execution_count": 22,
   "metadata": {
    "collapsed": false
   },
   "outputs": [
    {
     "data": {
      "text/plain": [
       "200"
      ]
     },
     "execution_count": 22,
     "metadata": {},
     "output_type": "execute_result"
    }
   ],
   "source": [
    "class Math:\n",
    "    @staticmethod\n",
    "    def add(a, b):\n",
    "        return a + b\n",
    "    \n",
    "    @staticmethod\n",
    "    def multiply(a, b):\n",
    "        return a * b\n",
    "    \n",
    "# 클래스 이름을 바로써서 호출, 유틸리티 성 함수\n",
    "Math.add(10,20)\n",
    "Math.multiply(10,20)"
   ]
  },
  {
   "cell_type": "markdown",
   "metadata": {},
   "source": [
    "* **Class inheritance(상속)**\n",
    " - 기존의 정의해둔 클래스의 기능을 그대로 물려받음\n",
    " - 기존 클래스에 기능 일부를 추가하거나, 변경하여 새로운 클래스 정의\n",
    " - 코드를 재사용할 수 있게된다.\n",
    " - 상속 받고자 하는 대상인 기존 클래스는 (Parent, Super, Base class라고 부른다)\n",
    " - 상속 받는 새로운 클래스는 (Child, Sub, Derived class라고 부른다)\n",
    " "
   ]
  },
  {
   "cell_type": "markdown",
   "metadata": {},
   "source": [
    "* **method override**\n",
    " - 부모 클래스의 method를 재정의\n",
    " - 하위 클래스의 인스턴스로 호출시, 재정의된 메소드가 호출됨"
   ]
  },
  {
   "cell_type": "markdown",
   "metadata": {},
   "source": [
    "* **super**\n",
    " - 하위 클래스에서 부모 클래스의 method를 호출할 때 사용"
   ]
  },
  {
   "cell_type": "code",
   "execution_count": null,
   "metadata": {
    "collapsed": true
   },
   "outputs": [],
   "source": [
    "class Person:\n",
    "    def __init__(self,name,age):\n",
    "        self.name = name\n",
    "        self.age = age\n",
    "    \n",
    "    def eat(self, food):\n",
    "        print('{}은 {}를 먹습니다.'.format(self.name, food))\n",
    "    \n",
    "    def sleep(self, minute):\n",
    "        print('{}은 {}분동안 잡니다.'.format(self.name, minute))\n",
    "\n",
    "    def work(self, minute): \n",
    "        print('{}은 {}분동안 준비합니다.'.format(self.name, minute))\n",
    "        \n",
    "        \n",
    "class Student(Person):\n",
    "    def __init__(self,name,age):\n",
    "        self.name = name\n",
    "        self.age = age\n",
    "        \n",
    "    def work(self, minute):\n",
    "        super().work(minute) #부모 클래스의 work() 호출\n",
    "        print('{}은 {}분동안 공부합니다.'.format(+self.name, minute))\n",
    "\n",
    "        \n",
    "class Employee(Person):\n",
    "    def __init__(self,name,age):\n",
    "        self.name = name\n",
    "        self.age = age\n",
    "        \n",
    "    def work(self, minute):\n",
    "        super().work(minute) #부모 클래스의 work() 호출\n",
    "        print('{}은 {}분동안 업무합니다.'.format(self.name, minute))\n",
    "\n",
    "\n",
    "bob= Student('Bob',25)\n",
    "bob.eat('bbq')\n",
    "bob.work('10') #Student의 work()호출"
   ]
  },
  {
   "cell_type": "markdown",
   "metadata": {},
   "source": [
    "* **special method**\n",
    " - 언더바두개 로 시작 __로 끝나는 특수 함수\n",
    " - 해당 메쏘드들을 구현하면, 커스텀 객체에 여러가지 파이썬 내장 함수나 연산자를 적용 가능\n",
    " - 오버라이딩 가능한 함수 목록은 아래 링크에서 참조 \n",
    "   - https://docs.python.org/3/reference/datamodel.html"
   ]
  },
  {
   "cell_type": "code",
   "execution_count": 40,
   "metadata": {
    "collapsed": false
   },
   "outputs": [
    {
     "name": "stdout",
     "output_type": "stream",
     "text": [
      "(1, 2)\n",
      "(1, 2)\n",
      "(3, 4)\n",
      "(4, 6)\n",
      "(-2, -2)\n",
      "8\n",
      "1 2\n"
     ]
    }
   ],
   "source": [
    "class Point:\n",
    "    def __init__(self, x, y):\n",
    "        self.x = x\n",
    "        self.y = y\n",
    "        \n",
    "    def print_pt(self):\n",
    "        print('({}, {})'.format(self.x, self.y))\n",
    "        \n",
    "    def __str__(self):\n",
    "        return '({}, {})'.format(self.x, self.y)\n",
    "    \n",
    "    def add(self, pt):\n",
    "        return Point(self.x + pt.x, self.y + pt.y)\n",
    "\n",
    "    def __add__(self, pt):\n",
    "        return Point(self.x + pt.x, self.y + pt.y)\n",
    "    \n",
    "    def __sub__(self, pt):\n",
    "        return Point(self.x - pt.x, self.y - pt.y)\n",
    "    \n",
    "    def __mul__(self, factor): #점 * 한 숫자\n",
    "        return Point(self.x * factor, self.y *factor)\n",
    "    \n",
    "    def __len__(self): #원점으로부터 거리 제곱\n",
    "        return (self.x**2 + self.y**2)\n",
    "    \n",
    "    def __getitem__(self, index): #해당 객체 인덱싱 하기\n",
    "        if index == 0:\n",
    "            return self.x\n",
    "        elif index == 1:\n",
    "            return self.y\n",
    "        else:\n",
    "            pass\n",
    "    \n",
    "p1 = Point(1,2)\n",
    "p2 = Point(3,4)\n",
    "\n",
    "p1.print_pt()\n",
    "print(p1)  #print 함수를 __str__ 로 바꿔버림\n",
    "print(p2)\n",
    "        \n",
    "#p3 = p1.add(p2)\n",
    "p3 = p1 + p2\n",
    "print(p3)\n",
    "\n",
    "p4 = p1 - p2\n",
    "print(p4)\n",
    "print(len(p4))\n",
    "\n",
    "\n",
    "# p1[0] -> x\n",
    "# p1[1] -> y\n",
    "print(p1[0], p1[1])\n"
   ]
  },
  {
   "cell_type": "code",
   "execution_count": null,
   "metadata": {
    "collapsed": true
   },
   "outputs": [],
   "source": []
  }
 ],
 "metadata": {
  "anaconda-cloud": {},
  "kernelspec": {
   "display_name": "Python [default]",
   "language": "python",
   "name": "python3"
  },
  "language_info": {
   "codemirror_mode": {
    "name": "ipython",
    "version": 3
   },
   "file_extension": ".py",
   "mimetype": "text/x-python",
   "name": "python",
   "nbconvert_exporter": "python",
   "pygments_lexer": "ipython3",
   "version": "3.5.6"
  }
 },
 "nbformat": 4,
 "nbformat_minor": 1
}
