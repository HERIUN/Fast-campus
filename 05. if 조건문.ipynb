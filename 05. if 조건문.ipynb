{
 "cells": [
  {
   "cell_type": "markdown",
   "metadata": {},
   "source": [
    "* **우선순위**\n",
    " - NOT>AND>OR"
   ]
  },
  {
   "cell_type": "code",
   "execution_count": 1,
   "metadata": {
    "collapsed": true
   },
   "outputs": [],
   "source": [
    "a=10\n",
    "b=8\n",
    "c=11"
   ]
  },
  {
   "cell_type": "code",
   "execution_count": 9,
   "metadata": {
    "collapsed": false
   },
   "outputs": [
    {
     "name": "stdout",
     "output_type": "stream",
     "text": [
      "true\n",
      "false\n"
     ]
    }
   ],
   "source": [
    "if a==10 or b==9 and c==12:\n",
    "    print('true')\n",
    "#여기엔 다른코드 삽입 불가\n",
    "else:\n",
    "    print('false')\n",
    "    \n",
    "if (a==10 or b==9) and c==12:\n",
    "    print('true')\n",
    "else:\n",
    "    print('false')"
   ]
  },
  {
   "cell_type": "markdown",
   "metadata": {},
   "source": [
    "* **if의 조건이 bool이 아닌 경우**\n",
    " - 정수, 실수, 문자열 리스트 등 기본타입도 조건에 사용 가능\n",
    " - False로 간주되는 값\n",
    "     - None\n",
    "     - 0\n",
    "     - 0.0\n",
    "     - ''\n",
    "     - [] : 빈 리스트\n",
    "     - () : 빈 튜플\n",
    "     - {} : 빈 딕셔너리\n",
    "     - set() : 빈 집합(셋)\n",
    " - 그 밖에는 모두 True로 간주"
   ]
  },
  {
   "cell_type": "markdown",
   "metadata": {},
   "source": [
    "* **if와 elif의 차이**\n",
    " - if~elif~else 가 한 블럭\n",
    " - if if if else는 세 블럭\n",
    " "
   ]
  },
  {
   "cell_type": "code",
   "execution_count": 11,
   "metadata": {
    "collapsed": false,
    "scrolled": true
   },
   "outputs": [
    {
     "name": "stdout",
     "output_type": "stream",
     "text": [
      "a is divided by 4\n"
     ]
    }
   ],
   "source": [
    "a = 16;\n",
    "if a % 4 == 0:\n",
    "    print('a is divided by 4')\n",
    "elif a % 4 == 1:\n",
    "    print('a % 4 = 1')\n",
    "elif a % 4 == 2:\n",
    "    print('a % 4 = 2')\n",
    "else:\n",
    "    print('a % 4 = 3')"
   ]
  },
  {
   "cell_type": "code",
   "execution_count": 12,
   "metadata": {
    "collapsed": false
   },
   "outputs": [
    {
     "name": "stdout",
     "output_type": "stream",
     "text": [
      "a is divided by 4\n",
      "a % 4 = 3\n"
     ]
    }
   ],
   "source": [
    "a = 16;\n",
    "if a % 4 == 0:\n",
    "    print('a is divided by 4')\n",
    "if a % 4 == 1:\n",
    "    print('a % 4 = 1')\n",
    "if a % 4 == 2:\n",
    "    print('a % 4 = 2')\n",
    "else:\n",
    "    print('a % 4 = 3')"
   ]
  },
  {
   "cell_type": "code",
   "execution_count": null,
   "metadata": {
    "collapsed": true
   },
   "outputs": [],
   "source": []
  }
 ],
 "metadata": {
  "kernelspec": {
   "display_name": "Python [default]",
   "language": "python",
   "name": "python3"
  },
  "language_info": {
   "codemirror_mode": {
    "name": "ipython",
    "version": 3
   },
   "file_extension": ".py",
   "mimetype": "text/x-python",
   "name": "python",
   "nbconvert_exporter": "python",
   "pygments_lexer": "ipython3",
   "version": "3.5.6"
  }
 },
 "nbformat": 4,
 "nbformat_minor": 1
}
